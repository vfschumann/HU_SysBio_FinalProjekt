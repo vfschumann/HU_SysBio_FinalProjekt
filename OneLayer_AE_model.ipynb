{
 "cells": [
  {
   "cell_type": "markdown",
   "id": "542a3f68-f019-41b6-a2c9-1070807ebda9",
   "metadata": {
    "tags": []
   },
   "source": [
    "# Implementation of an Autoencoder (AE)\n",
    "#### based on PyTorch tutorial https://pytorch.org/tutorials/beginner/basics/intro.html , https://www.cs.toronto.edu/~lczhang/360/lec/w05/autoencoder.html and https://github.com/patrickloeber/pytorch-examples/blob/master/Autoencoder.ipynb\n",
    "## Simple linear AE with one layer into hidden (latent) space 748 -> 256 -> 12 and back 12 -> 256 -> 748\n",
    "\n",
    "#### Build for MINST datasets\n",
    "\n",
    "###### ***For sc-RNAseq:*** fix enable cuda/GPU (only needed if CPU is to slow), try different optimiser, check for loss function, trying learning rates, nn.ReLU() function may not be the best, checking for overfitting by plotting loss of model and training data, Batch size has to be optimised: https://arxiv.org/abs/1609.04836 , https://arxiv.org/abs/1703.04933 . Maybe we should try a program like https://opendatascience.com/optimizing-pytorch-performance-batch-size-with-pytorch-profiler/ for that on a later stage for performance (not sure if the data will be to large in the future)"
   ]
  },
  {
   "cell_type": "code",
   "execution_count": 1,
   "id": "c170cac6-0e7e-4c2c-98ed-c26c1c7b2ce9",
   "metadata": {},
   "outputs": [],
   "source": [
    "import numpy as np\n",
    "import matplotlib.pyplot as plt\n",
    "import torch\n",
    "from torch import nn\n",
    "from torch.utils.data import DataLoader\n",
    "from torchvision import datasets, transforms\n",
    "from torchvision.transforms import ToTensor"
   ]
  },
  {
   "cell_type": "code",
   "execution_count": 2,
   "id": "544b516d-aa5f-4481-b7a0-d73f2f9f8657",
   "metadata": {},
   "outputs": [],
   "source": [
    "batch_size = 64\n",
    "\n",
    "transform = transforms.ToTensor()\n",
    "\n",
    "mnist_data = datasets.MNIST(root='./data', train=True, download=True, transform=transform)\n",
    "mnist_test = datasets.MNIST(root='./data', train=False, download=True, transform=transform)\n",
    "\n",
    "train_dataloader = DataLoader(dataset=mnist_data,batch_size=batch_size, shuffle=True)\n",
    "test_dataloader = DataLoader(dataset=mnist_data,batch_size=batch_size, shuffle=True)"
   ]
  },
  {
   "cell_type": "code",
   "execution_count": 3,
   "id": "0bd006b3-bf5d-4077-be2d-789f3cd15016",
   "metadata": {},
   "outputs": [
    {
     "name": "stdout",
     "output_type": "stream",
     "text": [
      "Using cuda device\n"
     ]
    }
   ],
   "source": [
    "device = \"cuda\" if torch.cuda.is_available() else \"cpu\"   ### needed if Nvidia GPU is available and wanted to use the GPU\n",
    "print(f\"Using {device} device\")"
   ]
  },
  {
   "cell_type": "code",
   "execution_count": 4,
   "id": "c39e5f45-c408-44e4-97bb-fdb582f3b34c",
   "metadata": {},
   "outputs": [
    {
     "name": "stdout",
     "output_type": "stream",
     "text": [
      "linear_AE(\n",
      "  (encoder): Sequential(\n",
      "    (0): Linear(in_features=784, out_features=256, bias=True)\n",
      "    (1): ReLU()\n",
      "    (2): Linear(in_features=256, out_features=12, bias=True)\n",
      "  )\n",
      "  (decoder): Sequential(\n",
      "    (0): Linear(in_features=12, out_features=256, bias=True)\n",
      "    (1): ReLU()\n",
      "    (2): Linear(in_features=256, out_features=784, bias=True)\n",
      "    (3): Sigmoid()\n",
      "  )\n",
      ")\n"
     ]
    }
   ],
   "source": [
    "### Building the neural network structure ####\n",
    "dim_encoder_decoder = 28 * 28\n",
    "\n",
    "class linear_AE(nn.Module):\n",
    "    def __init__(self):\n",
    "        super(linear_AE, self).__init__()\n",
    "\n",
    "        self.encoder = nn.Sequential(             # sequential operation of the following code:\n",
    "            nn.Linear(dim_encoder_decoder, 256),  #### data into the neural network layer (28*28 pixel -> 256 nodes)\n",
    "            nn.ReLU(),                            #### ReLU(x) = (x)^(+) = max(0,x) \n",
    "            nn.Linear(256, 12)\n",
    "        )\n",
    "        \n",
    "        self.decoder = nn.Sequential(             # sequential operation of the following code:\n",
    "            nn.Linear(12, 256),                   #### decoding laten layer (12 -> 256 nodes)\n",
    "            nn.ReLU(),      #### \n",
    "            nn.Linear(256, dim_encoder_decoder),  #### reconstruction of image (256 -> 748)\n",
    "            nn.Sigmoid()\n",
    "        )\n",
    "        \n",
    "    def forward(self, x):                         # exicute the endcoder and decoder defined in __init__(self)\n",
    "        \n",
    "        endoded = self.encoder(x) \n",
    "        decoded = self.decoder(endoded) \n",
    "        return decoded\n",
    "        \n",
    "model = linear_AE().to(device) #### this is needed for cuda\n",
    "print(model)"
   ]
  },
  {
   "cell_type": "code",
   "execution_count": 5,
   "id": "f5c03c64-62cb-4f52-a5a0-4ac0231c598e",
   "metadata": {},
   "outputs": [],
   "source": [
    "loss_fn = nn.MSELoss() ###   .CrossEntropyLoss() #           ### nn.MSELoss() (Mean Square Error) for regression tasks\n",
    "\n",
    "optimizer = torch.optim.Adam(model.parameters(),lr=1e-3, weight_decay=1e-5)"
   ]
  },
  {
   "cell_type": "code",
   "execution_count": 6,
   "id": "d11f50ed-17ba-402f-9f5b-55ec5d931013",
   "metadata": {},
   "outputs": [
    {
     "name": "stdout",
     "output_type": "stream",
     "text": [
      "Epoch:1, Loss:0.0252 ; Train Loss:0.0183\n",
      "Epoch:2, Loss:0.0163 ; Train Loss:0.0177\n",
      "Epoch:3, Loss:0.0169 ; Train Loss:0.0170\n",
      "Epoch:4, Loss:0.0171 ; Train Loss:0.0184\n",
      "Epoch:5, Loss:0.0155 ; Train Loss:0.0162\n",
      "Epoch:6, Loss:0.0187 ; Train Loss:0.0158\n",
      "Epoch:7, Loss:0.0172 ; Train Loss:0.0128\n",
      "Epoch:8, Loss:0.0137 ; Train Loss:0.0143\n",
      "Epoch:9, Loss:0.0147 ; Train Loss:0.0168\n",
      "Epoch:10, Loss:0.0151 ; Train Loss:0.0121\n",
      "Epoch:11, Loss:0.0154 ; Train Loss:0.0163\n",
      "Epoch:12, Loss:0.0137 ; Train Loss:0.0168\n",
      "Epoch:13, Loss:0.0118 ; Train Loss:0.0153\n",
      "Epoch:14, Loss:0.0156 ; Train Loss:0.0174\n",
      "Epoch:15, Loss:0.0119 ; Train Loss:0.0145\n",
      "Epoch:16, Loss:0.0158 ; Train Loss:0.0133\n",
      "Epoch:17, Loss:0.0149 ; Train Loss:0.0143\n",
      "Epoch:18, Loss:0.0133 ; Train Loss:0.0129\n",
      "Epoch:19, Loss:0.0109 ; Train Loss:0.0142\n",
      "Epoch:20, Loss:0.0157 ; Train Loss:0.0152\n",
      "Epoch:21, Loss:0.0143 ; Train Loss:0.0149\n",
      "Epoch:22, Loss:0.0130 ; Train Loss:0.0146\n",
      "Epoch:23, Loss:0.0136 ; Train Loss:0.0149\n",
      "Epoch:24, Loss:0.0144 ; Train Loss:0.0129\n",
      "Epoch:25, Loss:0.0153 ; Train Loss:0.0136\n",
      "Epoch:26, Loss:0.0159 ; Train Loss:0.0121\n",
      "Epoch:27, Loss:0.0147 ; Train Loss:0.0143\n",
      "Epoch:28, Loss:0.0178 ; Train Loss:0.0150\n",
      "Epoch:29, Loss:0.0167 ; Train Loss:0.0151\n",
      "Epoch:30, Loss:0.0150 ; Train Loss:0.0131\n",
      "Epoch:31, Loss:0.0129 ; Train Loss:0.0146\n",
      "Epoch:32, Loss:0.0142 ; Train Loss:0.0134\n",
      "Epoch:33, Loss:0.0144 ; Train Loss:0.0131\n",
      "Epoch:34, Loss:0.0115 ; Train Loss:0.0126\n",
      "Epoch:35, Loss:0.0142 ; Train Loss:0.0131\n",
      "Epoch:36, Loss:0.0149 ; Train Loss:0.0152\n",
      "Epoch:37, Loss:0.0139 ; Train Loss:0.0161\n",
      "Epoch:38, Loss:0.0147 ; Train Loss:0.0135\n",
      "Epoch:39, Loss:0.0151 ; Train Loss:0.0121\n",
      "Epoch:40, Loss:0.0134 ; Train Loss:0.0112\n",
      "Epoch:41, Loss:0.0136 ; Train Loss:0.0147\n",
      "Epoch:42, Loss:0.0132 ; Train Loss:0.0126\n",
      "Epoch:43, Loss:0.0140 ; Train Loss:0.0136\n",
      "Epoch:44, Loss:0.0128 ; Train Loss:0.0138\n",
      "Epoch:45, Loss:0.0122 ; Train Loss:0.0139\n",
      "Epoch:46, Loss:0.0148 ; Train Loss:0.0125\n",
      "Epoch:47, Loss:0.0128 ; Train Loss:0.0116\n",
      "Epoch:48, Loss:0.0142 ; Train Loss:0.0110\n",
      "Epoch:49, Loss:0.0153 ; Train Loss:0.0136\n",
      "Epoch:50, Loss:0.0160 ; Train Loss:0.0138\n"
     ]
    },
    {
     "data": {
      "image/png": "[encoded data removed]",
      "text/plain": [
       "<Figure size 640x480 with 1 Axes>"
      ]
     },
     "metadata": {},
     "output_type": "display_data"
    }
   ],
   "source": [
    "num_epochs = 50\n",
    "outputs = []\n",
    "torch.manual_seed(42)\n",
    "for epoch in range(num_epochs):\n",
    "    for (X, label) in train_dataloader:\n",
    "        X = X.reshape(-1, 28*28).to(device)\n",
    "        pred = model(X)\n",
    "        loss = loss_fn(pred,X)\n",
    "        \n",
    "        optimizer.zero_grad()\n",
    "        loss.backward()\n",
    "        optimizer.step()\n",
    "\n",
    "    print(f'Epoch:{epoch+1}, Loss:{loss.item():.4f}', end=\"\")\n",
    "    outputs.append([epoch, loss.item()])\n",
    "    \n",
    "    for (X_test, label) in test_dataloader:\n",
    "        X_test = X_test.reshape(-1, 28*28).to(device)\n",
    "        pred_test = model(X_test)\n",
    "        loss_test = loss_fn(pred_test, X_test)\n",
    "    print(f' ; Train Loss:{loss_test.item():.4f}')\n",
    "    plt.scatter(epoch, loss_test.item(), c=\"black\")\n",
    "    \n",
    "plt.plot([i[0] for i in outputs], [i[1] for i in outputs])\n",
    "plt.show()"
   ]
  },
  {
   "cell_type": "code",
   "execution_count": null,
   "id": "c792f677-47af-4f18-9087-f70ba8bc1cd5",
   "metadata": {},
   "outputs": [],
   "source": []
  },
  {
   "cell_type": "code",
   "execution_count": 7,
   "id": "815aa5fd-7d67-4a59-85ae-87461a6286e3",
   "metadata": {},
   "outputs": [],
   "source": [
    "torch.save(model, 'model_oneLayer_AE.pth')"
   ]
  },
  {
   "cell_type": "code",
   "execution_count": 8,
   "id": "a0b5deda-173d-4321-9007-250312d6235e",
   "metadata": {},
   "outputs": [],
   "source": [
    "model = torch.load('model_oneLayer_AE.pth')"
   ]
  },
  {
   "cell_type": "code",
   "execution_count": 9,
   "id": "0db74de5-1236-4913-8b50-2ae3231bb5b4",
   "metadata": {},
   "outputs": [
    {
     "data": {
      "text/plain": [
       "linear_AE(\n",
       "  (encoder): Sequential(\n",
       "    (0): Linear(in_features=784, out_features=256, bias=True)\n",
       "    (1): ReLU()\n",
       "    (2): Linear(in_features=256, out_features=12, bias=True)\n",
       "  )\n",
       "  (decoder): Sequential(\n",
       "    (0): Linear(in_features=12, out_features=256, bias=True)\n",
       "    (1): ReLU()\n",
       "    (2): Linear(in_features=256, out_features=784, bias=True)\n",
       "    (3): Sigmoid()\n",
       "  )\n",
       ")"
      ]
     },
     "execution_count": 9,
     "metadata": {},
     "output_type": "execute_result"
    }
   ],
   "source": [
    "model"
   ]
  }
 ],
 "metadata": {
  "kernelspec": {
   "display_name": "Python 3",
   "language": "python",
   "name": "python3"
  },
  "language_info": {
   "codemirror_mode": {
    "name": "ipython",
    "version": 3
   },
   "file_extension": ".py",
   "mimetype": "text/x-python",
   "name": "python",
   "nbconvert_exporter": "python",
   "pygments_lexer": "ipython3",
   "version": "3.9.2"
  }
 },
 "nbformat": 4,
 "nbformat_minor": 5
}
