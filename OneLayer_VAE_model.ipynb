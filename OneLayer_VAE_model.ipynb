{
 "cells": [
  {
   "cell_type": "markdown",
   "id": "542a3f68-f019-41b6-a2c9-1070807ebda9",
   "metadata": {
    "tags": []
   },
   "source": [
    "# Implementation of an Autoencoder (VAE)\n",
    "#### based on the VE implementation and https://sannaperzon.medium.com/paper-summary-variational-autoencoders-with-pytorch-implementation-1b4b23b1763a\n",
    "## Simple linear VAE with one layer into hidden (latent) space 748 -> 256 -> 12 and back 12 -> 256 -> 748\n",
    "\n",
    "#### Build for MINST datasets"
   ]
  },
  {
   "cell_type": "code",
   "execution_count": 1,
   "id": "c170cac6-0e7e-4c2c-98ed-c26c1c7b2ce9",
   "metadata": {},
   "outputs": [],
   "source": [
    "#import os\n",
    "#os.environ['MKL_NUM_THREADS'] = '1'\n",
    "#os.environ['NUMEXPR_NUM_THREADS'] = '1'\n",
    "#os.environ['OMP_NUM_THREADS'] = '1'\n",
    "import numpy as np\n",
    "import matplotlib.pyplot as plt\n",
    "import torch\n",
    "from torch import nn\n",
    "from torch.utils.data import DataLoader\n",
    "import torchvision\n",
    "from torchvision import datasets, transforms\n",
    "import torch.nn.functional as F\n",
    "from torchvision.transforms import ToTensor"
   ]
  },
  {
   "cell_type": "code",
   "execution_count": 2,
   "id": "544b516d-aa5f-4481-b7a0-d73f2f9f8657",
   "metadata": {},
   "outputs": [],
   "source": [
    "batch_size = 64\n",
    "\n",
    "mnist_data = datasets.MNIST(root='./data', train=True, download=True, transform=transforms.ToTensor())\n",
    "mnist_test = datasets.MNIST(root='./data', train=False, download=True, transform=transforms.ToTensor())\n",
    "\n",
    "train_dataloader = DataLoader(dataset=mnist_data, batch_size=batch_size, shuffle=True)\n",
    "test_dataloader = DataLoader(dataset=mnist_data, batch_size=batch_size, shuffle=True)"
   ]
  },
  {
   "cell_type": "code",
   "execution_count": 3,
   "id": "0bd006b3-bf5d-4077-be2d-789f3cd15016",
   "metadata": {},
   "outputs": [
    {
     "name": "stdout",
     "output_type": "stream",
     "text": [
      "Using cuda device\n"
     ]
    }
   ],
   "source": [
    "device = \"cuda\" if torch.cuda.is_available() else \"cpu\"   ### needed if Nvidia GPU is available and wanted to use the GPU\n",
    "print(f\"Using {device} device\")"
   ]
  },
  {
   "cell_type": "code",
   "execution_count": 4,
   "id": "c39e5f45-c408-44e4-97bb-fdb582f3b34c",
   "metadata": {},
   "outputs": [
    {
     "name": "stdout",
     "output_type": "stream",
     "text": [
      "VAE(\n",
      "  (decoder): Sequential(\n",
      "    (0): Linear(in_features=12, out_features=256, bias=True)\n",
      "    (1): ReLU()\n",
      "    (2): Linear(in_features=256, out_features=784, bias=True)\n",
      "    (3): Sigmoid()\n",
      "  )\n",
      "  (encoder_layer): Sequential(\n",
      "    (0): Linear(in_features=784, out_features=256, bias=True)\n",
      "    (1): ReLU()\n",
      "  )\n",
      "  (hidden_to_mu): Linear(in_features=256, out_features=12, bias=True)\n",
      "  (hidden_to_sigma): Linear(in_features=256, out_features=12, bias=True)\n",
      ")\n"
     ]
    }
   ],
   "source": [
    "### Building the neural network structure ####\n",
    "\n",
    "dim_encoder_decoder=784\n",
    "dim_hidden=256\n",
    "dim_latent=12\n",
    "\n",
    "class VAE(nn.Module):\n",
    "    def __init__(self, dim_encoder_decoder=784, dim_hidden=256, dim_latent=12):\n",
    "        super(VAE , self).__init__()\n",
    "        \n",
    "        self.decoder = nn.Sequential(                             # sequential operation of the following code:\n",
    "            nn.Linear(dim_latent, dim_hidden),                    # decoding laten layer (12 -> 256 nodes)\n",
    "            nn.ReLU(),                                            #\n",
    "            nn.Linear(dim_hidden, dim_encoder_decoder),           # reconstruction of image (256 -> 784)\n",
    "            nn.Sigmoid()                                          # rescale values between ]0,1[ by the sigmoidal function\n",
    "        )\n",
    "        \n",
    "        self.encoder_layer = nn.Sequential(                       # sequential operation of the following code:\n",
    "            nn.Linear(dim_encoder_decoder, dim_hidden),           # decoding laten layer (784 -> 256 nodes)\n",
    "            nn.ReLU(),      \n",
    "        )\n",
    "        \n",
    "        self.hidden_to_mu = nn.Linear(dim_hidden, dim_latent)     # hidden layer in dim_latent for mu\n",
    "        self.hidden_to_sigma = nn.Linear(dim_hidden, dim_latent)  # hidden layer in dim_latent for sigma\n",
    "\n",
    "\n",
    "    def encoder(self, x):\n",
    "        hidden_layer = self.encoder_layer(x)\n",
    "        mu = self.hidden_to_mu(hidden_layer)\n",
    "        sigma = self.hidden_to_sigma(hidden_layer)\n",
    "        return mu , sigma\n",
    "\n",
    "        \n",
    "    def forward(self, x):                                        # \n",
    "        mu, sigma = self.encoder(x)\n",
    "        epsilon = torch.randn_like(sigma)                        #### \"Returns a tensor with the same size as input that is filled with random numbers from a normal distribution with mean 0 and variance 1\"\n",
    "        z = mu + sigma*epsilon\n",
    "        decoded = self.decoder(z) \n",
    "        return decoded , mu, sigma , z\n",
    "\n",
    "\n",
    "model = VAE().to(device) #### this is needed for cuda\n",
    "print(model)\n"
   ]
  },
  {
   "cell_type": "code",
   "execution_count": 5,
   "id": "f5c03c64-62cb-4f52-a5a0-4ac0231c598e",
   "metadata": {},
   "outputs": [],
   "source": [
    "loss_fn = nn.MSELoss()                                        ### nn.MSELoss() (Mean Square Error) for regression tasks\n",
    "#loss_fn = nn.CrossEntropyLoss()\n",
    "#loss_fn = nn.BCELoss(reduction=\"sum\")\n",
    "optimizer = torch.optim.Adam(model.parameters(),lr=1e-4, )#"
   ]
  },
  {
   "cell_type": "code",
   "execution_count": 6,
   "id": "9a5ad7ec-52cf-4f41-8ed8-2813f0fd0016",
   "metadata": {},
   "outputs": [
    {
     "name": "stderr",
     "output_type": "stream",
     "text": [
      "938it [00:09, 98.40it/s, loss_total=8.42e+5] \n",
      "938it [00:11, 84.74it/s, loss_total=9.77e+4]\n",
      "938it [00:10, 88.72it/s, loss_total=7.58e+4] \n",
      "938it [00:08, 104.63it/s, loss_total=6.43e+4]\n",
      "938it [00:09, 98.10it/s, loss_total=5.23e+4] \n",
      "938it [00:09, 95.92it/s, loss_total=3.88e+4] \n",
      "938it [00:10, 90.15it/s, loss_total=2.56e+4]\n",
      "938it [00:09, 97.15it/s, loss_total=1.43e+4]\n",
      "938it [00:09, 98.27it/s, loss_total=6.79e+3] \n",
      "938it [00:09, 96.56it/s, loss_total=3.14e+3] \n",
      "938it [00:10, 93.77it/s, loss_total=1.68e+3] \n",
      "938it [00:09, 101.71it/s, loss_total=1.04e+3]\n",
      "938it [00:09, 101.82it/s, loss_total=722] \n",
      "938it [00:09, 98.57it/s, loss_total=524] \n",
      "938it [00:09, 100.24it/s, loss_total=388] \n",
      "938it [00:08, 106.74it/s, loss_total=293] \n",
      "938it [00:08, 114.73it/s, loss_total=222] \n",
      "938it [00:08, 112.37it/s, loss_total=171] \n",
      "938it [00:10, 91.42it/s, loss_total=133] \n",
      "938it [00:09, 99.53it/s, loss_total=107]  \n",
      "938it [00:10, 92.68it/s, loss_total=90.4] \n",
      "938it [00:11, 84.07it/s, loss_total=81.9]\n",
      "938it [00:09, 97.57it/s, loss_total=75.8] \n",
      "938it [00:09, 95.26it/s, loss_total=72.4] \n",
      "938it [00:08, 104.98it/s, loss_total=72.5]\n",
      "938it [00:08, 105.30it/s, loss_total=72.9]\n",
      "938it [00:08, 114.28it/s, loss_total=67.7]\n",
      "938it [00:09, 103.28it/s, loss_total=69.5]\n",
      "938it [00:08, 109.53it/s, loss_total=69.9]\n",
      "938it [00:08, 109.57it/s, loss_total=69.2]\n",
      "938it [00:08, 108.54it/s, loss_total=68.3]\n",
      "938it [00:08, 113.59it/s, loss_total=70.1]\n",
      "938it [00:08, 105.35it/s, loss_total=68.8]\n",
      "938it [00:08, 104.40it/s, loss_total=71]  \n",
      "938it [00:08, 111.94it/s, loss_total=67.1]\n",
      "938it [00:09, 101.27it/s, loss_total=68.7]\n",
      "938it [00:08, 109.59it/s, loss_total=67.5]\n",
      "938it [00:08, 108.66it/s, loss_total=69.2]\n",
      "938it [00:09, 102.32it/s, loss_total=67.9]\n",
      "938it [00:08, 113.36it/s, loss_total=68]  \n",
      "938it [00:08, 110.01it/s, loss_total=69.2]\n",
      "938it [00:10, 90.05it/s, loss_total=68]   \n",
      "938it [00:08, 106.09it/s, loss_total=67.5]\n",
      "938it [00:09, 97.45it/s, loss_total=69.5] \n",
      "938it [00:08, 105.25it/s, loss_total=68.6]\n",
      "938it [00:08, 115.03it/s, loss_total=66.7]\n",
      "938it [00:08, 113.35it/s, loss_total=67.6]\n",
      "938it [00:08, 112.94it/s, loss_total=69.3]\n",
      "938it [00:08, 108.26it/s, loss_total=69.7]\n",
      "938it [00:08, 108.19it/s, loss_total=66.9]\n",
      "938it [00:08, 108.95it/s, loss_total=65.8]\n",
      "938it [00:09, 98.40it/s, loss_total=68.3] \n",
      "938it [00:08, 110.28it/s, loss_total=69.3]\n",
      "938it [00:08, 108.93it/s, loss_total=65.7]\n",
      "938it [00:08, 108.87it/s, loss_total=67.5]\n",
      "938it [00:08, 115.99it/s, loss_total=67.7]\n",
      "938it [00:08, 104.28it/s, loss_total=67.7]\n",
      "938it [00:08, 112.85it/s, loss_total=67.5]\n",
      "938it [00:08, 114.57it/s, loss_total=67.4]\n",
      "938it [00:08, 109.71it/s, loss_total=69.5]\n",
      "938it [00:08, 110.69it/s, loss_total=66.1]\n",
      "938it [00:08, 105.60it/s, loss_total=67.2]\n",
      "938it [00:09, 102.83it/s, loss_total=67]  \n",
      "938it [00:09, 103.44it/s, loss_total=66.6]\n",
      "938it [00:08, 112.16it/s, loss_total=67.9]\n",
      "938it [00:08, 113.82it/s, loss_total=66.6]\n",
      "938it [00:10, 87.27it/s, loss_total=67.2]\n",
      "938it [00:09, 94.72it/s, loss_total=68.2] \n",
      "938it [00:09, 100.99it/s, loss_total=68.8]\n",
      "938it [00:08, 108.32it/s, loss_total=64.5]\n",
      "938it [00:08, 107.73it/s, loss_total=67.8]\n",
      "938it [00:08, 107.22it/s, loss_total=67.3]\n",
      "938it [00:09, 102.15it/s, loss_total=66]  \n",
      "938it [00:09, 103.46it/s, loss_total=67.4]\n",
      "938it [00:09, 102.32it/s, loss_total=66.8]\n",
      "938it [00:10, 91.28it/s, loss_total=67]   \n",
      "938it [00:09, 101.99it/s, loss_total=66]  \n",
      "938it [00:09, 102.46it/s, loss_total=67.3]\n",
      "938it [00:08, 105.20it/s, loss_total=67.5]\n",
      "938it [00:09, 96.22it/s, loss_total=68.2] \n",
      "938it [00:08, 104.39it/s, loss_total=65.4]\n",
      "938it [00:09, 101.71it/s, loss_total=67.5]\n",
      "938it [00:08, 109.78it/s, loss_total=66.1]\n",
      "938it [00:10, 90.28it/s, loss_total=67.1] \n",
      "938it [00:09, 94.10it/s, loss_total=66.4] \n",
      "938it [00:08, 107.88it/s, loss_total=66.9]\n",
      "938it [00:08, 111.59it/s, loss_total=66.9]\n",
      "938it [00:08, 111.33it/s, loss_total=67.3]\n",
      "938it [00:08, 113.98it/s, loss_total=66.2]\n",
      "938it [00:08, 111.77it/s, loss_total=66.3]\n",
      "938it [00:08, 105.66it/s, loss_total=66.4]\n",
      "938it [00:08, 105.84it/s, loss_total=66.7]\n",
      "938it [00:08, 107.37it/s, loss_total=66.5]\n",
      "938it [00:09, 101.26it/s, loss_total=65.5]\n",
      "938it [00:09, 98.32it/s, loss_total=66]   \n",
      "938it [00:09, 102.82it/s, loss_total=67.6]\n",
      "938it [00:09, 95.00it/s, loss_total=67]   \n",
      "938it [00:08, 114.66it/s, loss_total=65.7]\n",
      "938it [00:08, 108.61it/s, loss_total=66.9]\n",
      "938it [00:08, 106.44it/s, loss_total=66.8]\n"
     ]
    },
    {
     "data": {
      "image/png": "[encoded data removed]",
      "text/plain": [
       "<Figure size 640x480 with 1 Axes>"
      ]
     },
     "metadata": {},
     "output_type": "display_data"
    }
   ],
   "source": [
    "from tqdm import tqdm\n",
    "n_epochs = 100\n",
    "\n",
    "list_loss = []\n",
    "torch.manual_seed(42)\n",
    "for epoch in range(n_epochs):\n",
    "    loop = tqdm(enumerate(train_dataloader))\n",
    "    loss_total = 0\n",
    "    for batch , (X, label) in loop:\n",
    "        X = X.reshape(-1, dim_encoder_decoder).to(device)\n",
    "        pred , mu, sigma , _ = model(X)\n",
    "        re_loss = loss_fn(pred, X)\n",
    "        kl_div = - torch.sum(1 + torch.log(sigma.pow(2)) - mu.pow(2) - sigma.pow(2))\n",
    "        loss = re_loss + kl_div\n",
    "        optimizer.zero_grad()\n",
    "        loss.backward()\n",
    "        optimizer.step()\n",
    "        loss_total += loss.item()\n",
    "        loop.set_postfix(loss_total=loss_total)\n",
    "    list_loss.append(loss_total)\n",
    "plt.plot([i for i,x in enumerate(list_loss)], list_loss)\n",
    "plt.yscale(\"log\")\n",
    "plt.show()"
   ]
  },
  {
   "cell_type": "code",
   "execution_count": 7,
   "id": "a3918288-c4d2-4f54-bf73-43371fbe53a8",
   "metadata": {},
   "outputs": [],
   "source": [
    "torch.save(model, 'VAE_MSE_100epoch_lr1e-4.pth')"
   ]
  },
  {
   "cell_type": "code",
   "execution_count": null,
   "id": "a0b5deda-173d-4321-9007-250312d6235e",
   "metadata": {},
   "outputs": [],
   "source": []
  },
  {
   "cell_type": "code",
   "execution_count": null,
   "id": "0db74de5-1236-4913-8b50-2ae3231bb5b4",
   "metadata": {},
   "outputs": [],
   "source": []
  },
  {
   "cell_type": "code",
   "execution_count": null,
   "id": "77ce76be-1183-4567-b67a-d657f01f10ff",
   "metadata": {},
   "outputs": [],
   "source": []
  }
 ],
 "metadata": {
  "kernelspec": {
   "display_name": "Python 3",
   "language": "python",
   "name": "python3"
  },
  "language_info": {
   "codemirror_mode": {
    "name": "ipython",
    "version": 3
   },
   "file_extension": ".py",
   "mimetype": "text/x-python",
   "name": "python",
   "nbconvert_exporter": "python",
   "pygments_lexer": "ipython3",
   "version": "3.9.2"
  }
 },
 "nbformat": 4,
 "nbformat_minor": 5
}
